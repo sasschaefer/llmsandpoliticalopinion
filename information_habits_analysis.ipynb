{
 "cells": [
  {
   "cell_type": "markdown",
   "id": "4285da97",
   "metadata": {},
   "source": [
    "# Analysis of Information Habits\n",
    "\n",
    "This notebook explores how participants consume and trust different sources of political information.\n",
    "\n",
    "We analyze both:\n",
    "- Frequency of use (CH01_01 to CH01_05)\n",
    "- Trust in different sources (CH02_01 to CH02_05)"
   ]
  },
  {
   "cell_type": "markdown",
   "id": "fb3eff16",
   "metadata": {},
   "source": [
    "### Load preprocessed data\n",
    "\n",
    "To start, we'll import all relevant libraries needed to test this hypothesis and load the data."
   ]
  },
  {
   "cell_type": "code",
   "execution_count": 1,
   "id": "aa2cdf56",
   "metadata": {},
   "outputs": [],
   "source": [
    "from data_preprocessing import load_and_preprocess\n",
    "\n",
    "# Load data\n",
    "df = load_and_preprocess('data/cleaned_file.csv')"
   ]
  },
  {
   "cell_type": "markdown",
   "id": "24e6e290",
   "metadata": {},
   "source": [
    "### Descriptive Stats of media consumption\n",
    "\n",
    "The items CH01_01, CH01_02, CH01_03, CH01_04, CH01_05 asked the participants about their information habits. Namely, how frequently they've consumed political content through:\n",
    "- CH01_01: friends/family\n",
    "- CH01_02: social media\n",
    "- CH01_03: news website\n",
    "- CH01_04: television\n",
    "- CH01_05: newspaper\n",
    "\n",
    "Before calculating the mean, the columns will be renamed for clarity."
   ]
  },
  {
   "cell_type": "code",
   "execution_count": 2,
   "id": "3ba36d4f",
   "metadata": {},
   "outputs": [],
   "source": [
    "df= df.rename(columns={\"CH01_01\": \"freq_friends_family\"})\n",
    "df= df.rename(columns={\"CH01_02\": \"freq_social_media\"})\n",
    "df= df.rename(columns={\"CH01_03\": \"freq_news_website\"})\n",
    "df= df.rename(columns={\"CH01_04\": \"freq_television\"})\n",
    "df= df.rename(columns={\"CH01_05\": \"freq_newspaper\"})"
   ]
  },
  {
   "cell_type": "code",
   "execution_count": 6,
   "id": "275d7ede",
   "metadata": {},
   "outputs": [
    {
     "name": "stdout",
     "output_type": "stream",
     "text": [
      "Mean frequency of political information consumption:\n",
      "freq_friends_family    2.571429\n",
      "freq_social_media      2.982143\n",
      "freq_news_website      2.410714\n",
      "freq_television        1.857143\n",
      "freq_newspaper         1.714286\n",
      "dtype: float64\n"
     ]
    }
   ],
   "source": [
    "# Media usage frequency\n",
    "freq_cols = ['freq_friends_family', 'freq_social_media', 'freq_news_website', 'freq_television', 'freq_newspaper']\n",
    "print(\"Mean frequency of political information consumption:\")\n",
    "print(df[freq_cols].mean())"
   ]
  },
  {
   "cell_type": "markdown",
   "id": "2d88df0f",
   "metadata": {},
   "source": [
    "### Analyze trust in media sources\n",
    "\n",
    "The items CH02_01, CH02_02, CH02_03, CH02_04, CH02_05 asked the participants about their information habits. Namely, how much trust they put into the following media sources:\n",
    "- CH02_01: public news broadcaster\n",
    "- CH02_02: private news broadcaster\n",
    "- CH02_03: social media\n",
    "- CH02_04: online news\n",
    "- CH02_05: friends/family\n",
    "\n",
    "Before calculating the mean, the columns will be renamed for clarity."
   ]
  },
  {
   "cell_type": "code",
   "execution_count": 7,
   "id": "20c4f045",
   "metadata": {},
   "outputs": [],
   "source": [
    "df= df.rename(columns={\"CH02_01\": \"trust_public_news\"})\n",
    "df= df.rename(columns={\"CH02_02\": \"trust_private_news\"})\n",
    "df= df.rename(columns={\"CH02_03\": \"trust_social_media\"})\n",
    "df= df.rename(columns={\"CH02_04\": \"trust_online_news\"})\n",
    "df= df.rename(columns={\"CH02_05\": \"trust_friends_family\"})"
   ]
  },
  {
   "cell_type": "code",
   "execution_count": 9,
   "id": "b3f0e40a",
   "metadata": {},
   "outputs": [
    {
     "name": "stdout",
     "output_type": "stream",
     "text": [
      "Trust in political information sources (number of mentions):\n",
      "trust_public_news       104.0\n",
      "trust_online_news        86.0\n",
      "trust_friends_family     71.0\n",
      "trust_social_media       70.0\n",
      "trust_private_news       59.0\n",
      "dtype: float64\n"
     ]
    }
   ],
   "source": [
    "# Trusted sources (checkboxes)\n",
    "trust_cols = ['trust_public_news', 'trust_private_news', 'trust_social_media', 'trust_online_news', 'trust_friends_family']\n",
    "print(\"Trust in political information sources (number of mentions):\")\n",
    "print(df[trust_cols].sum().sort_values(ascending=False))"
   ]
  },
  {
   "cell_type": "markdown",
   "id": "cf18e0df",
   "metadata": {},
   "source": [
    "### Conclusion\n",
    "\n",
    "Social media and personal networks were the most frequently used sources, but traditional media (especially public broadcasters and online newspapers) were most trusted."
   ]
  }
 ],
 "metadata": {
  "kernelspec": {
   "display_name": "Python 3",
   "language": "python",
   "name": "python3"
  },
  "language_info": {
   "codemirror_mode": {
    "name": "ipython",
    "version": 3
   },
   "file_extension": ".py",
   "mimetype": "text/x-python",
   "name": "python",
   "nbconvert_exporter": "python",
   "pygments_lexer": "ipython3",
   "version": "3.10.5"
  }
 },
 "nbformat": 4,
 "nbformat_minor": 5
}
