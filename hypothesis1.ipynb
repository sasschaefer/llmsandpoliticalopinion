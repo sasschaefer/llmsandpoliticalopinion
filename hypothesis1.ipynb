{
 "cells": [
  {
   "cell_type": "markdown",
   "metadata": {},
   "source": [
    "# Hypothesis 1: Credibility and Trustworthiness\n",
    "\n",
    "**Hypothesis:** LLM-generated content will be perceived as less credible and trustworthy than human-written content.\n",
    "\n",
    "This notebook's goal is to analyize the data in regards to the first hypothesis by comparing the average scores of trustworthiness and credibility of the two content groups. "
   ]
  },
  {
   "cell_type": "markdown",
   "metadata": {},
   "source": [
    "### Load preprocessed data\n",
    "\n",
    "To start, we'll import all relevant libraries needed to test this hypothesis and load the data."
   ]
  },
  {
   "cell_type": "code",
   "execution_count": 2,
   "metadata": {},
   "outputs": [],
   "source": [
    "import matplotlib.pyplot as plt\n",
    "import seaborn as sns\n",
    "from scipy.stats import ttest_ind\n",
    "\n",
    "from data_preprocessing import load_and_preprocess\n",
    "\n",
    "# Load and preprocess data\n",
    "df = load_and_preprocess('data/cleaned_file.csv')"
   ]
  },
  {
   "cell_type": "markdown",
   "metadata": {},
   "source": [
    "### Create average scores per content type"
   ]
  },
  {
   "cell_type": "code",
   "execution_count": 4,
   "metadata": {},
   "outputs": [],
   "source": [
    "# Calculate mean credibility and trustworthiness per participant (across all 6 examples)\n",
    "df['credibility'] = df[[\n",
    "    'credibility01', 'credibility02', 'credibility03',\n",
    "    'credibility04', 'credibility05', 'credibility06']].mean(axis=1)\n",
    "\n",
    "df['trustworthiness'] = df[[\n",
    "    'trustworthiness01', 'trustworthiness02', 'trustworthiness03',\n",
    "    'trustworthiness04', 'trustworthiness05', 'trustworthiness06']].mean(axis=1)"
   ]
  },
  {
   "cell_type": "markdown",
   "metadata": {},
   "source": [
    "### Compare Groups (LLM VS. Human)\n",
    "\n",
    "The groups will be compared using the ttest_ind function from the scipy.stats library. "
   ]
  },
  {
   "cell_type": "code",
   "execution_count": 5,
   "metadata": {},
   "outputs": [],
   "source": [
    "# T-tests for credibility and trustworthiness\n",
    "cred_llm = df[df['content_type'] == 'AI']['credibility']\n",
    "cred_human = df[df['content_type'] == 'Human']['credibility']\n",
    "\n",
    "trust_llm = df[df['content_type'] == 'AI']['trustworthiness']\n",
    "trust_human = df[df['content_type'] == 'Human']['trustworthiness']"
   ]
  },
  {
   "cell_type": "code",
   "execution_count": 6,
   "metadata": {},
   "outputs": [
    {
     "name": "stdout",
     "output_type": "stream",
     "text": [
      "Credibility T-Test: Ttest_indResult(statistic=0.6535999651608542, pvalue=0.5161431947194153)\n",
      "Trustworthiness T-Test: Ttest_indResult(statistic=0.19720992675266805, pvalue=0.8444036904429286)\n"
     ]
    }
   ],
   "source": [
    "cred_ttest = ttest_ind(cred_llm, cred_human)\n",
    "trust_ttest = ttest_ind(trust_llm, trust_human)\n",
    "\n",
    "print(\"Credibility T-Test:\", cred_ttest)\n",
    "print(\"Trustworthiness T-Test:\", trust_ttest)"
   ]
  },
  {
   "cell_type": "markdown",
   "metadata": {},
   "source": [
    "### Visualization of the results"
   ]
  },
  {
   "cell_type": "code",
   "execution_count": 7,
   "metadata": {},
   "outputs": [
    {
     "data": {
      "image/png": "[encoded data removed]",
      "text/plain": [
       "<Figure size 432x288 with 1 Axes>"
      ]
     },
     "metadata": {
      "needs_background": "light"
     },
     "output_type": "display_data"
    },
    {
     "data": {
      "image/png": "[encoded data removed]",
      "text/plain": [
       "<Figure size 432x288 with 1 Axes>"
      ]
     },
     "metadata": {
      "needs_background": "light"
     },
     "output_type": "display_data"
    }
   ],
   "source": [
    "# Boxplots for visualization\n",
    "sns.boxplot(x='content_type', y='credibility', data=df)\n",
    "plt.title('Credibility by Content Type')\n",
    "plt.show()\n",
    "\n",
    "sns.boxplot(x='content_type', y='trustworthiness', data=df)\n",
    "plt.title('Trustworthiness by Content Type')\n",
    "plt.show()"
   ]
  },
  {
   "cell_type": "markdown",
   "metadata": {},
   "source": [
    "### Conclusion\n",
    "\n",
    "No significant difference was found. Participants rated both LLM- and human-written texts similarly in terms of credibility and trustworthiness (p > 0.05)."
   ]
  }
 ],
 "metadata": {
  "kernelspec": {
   "display_name": "Python 3",
   "language": "python",
   "name": "python3"
  },
  "language_info": {
   "codemirror_mode": {
    "name": "ipython",
    "version": 3
   },
   "file_extension": ".py",
   "mimetype": "text/x-python",
   "name": "python",
   "nbconvert_exporter": "python",
   "pygments_lexer": "ipython3",
   "version": "3.10.5"
  }
 },
 "nbformat": 4,
 "nbformat_minor": 2
}
