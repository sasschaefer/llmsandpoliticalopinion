{
 "cells": [
  {
   "cell_type": "markdown",
   "metadata": {},
   "source": [
    "# Hypothesis 4: Source Attribution Accuracy\n",
    "\n",
    "**Hypothesis:** Participants will struggle to differentiate between LLM-generated and human-written content.\n",
    "\n",
    "This notebook's goal is to analyize the data in regards to the forth hypothesis by calculating the mean accuracy of participants' source guesses per participant.\n",
    "\n",
    "Additionally, we checked whether the participants' confidence in recognizing AI-generated content had any impact on their actual accuracy. "
   ]
  },
  {
   "cell_type": "markdown",
   "metadata": {},
   "source": [
    "### Load preprocessed data\n",
    "\n",
    "To start, we'll import all relevant libraries needed to test this hypothesis and load the data."
   ]
  },
  {
   "cell_type": "code",
   "execution_count": 9,
   "metadata": {},
   "outputs": [],
   "source": [
    "import matplotlib.pyplot as plt\n",
    "import seaborn as sns\n",
    "from data_preprocessing import load_and_preprocess\n",
    "from scipy.stats import pearsonr\n",
    "\n",
    "# Load and preprocess data\n",
    "df = load_and_preprocess('data/cleaned_file.csv')"
   ]
  },
  {
   "cell_type": "markdown",
   "metadata": {},
   "source": [
    "### Create accuracy column\n",
    "\n",
    "Compare participant labels to the actual source of content"
   ]
  },
  {
   "cell_type": "code",
   "execution_count": 10,
   "metadata": {},
   "outputs": [],
   "source": [
    "# Create accuracy columns by comparing each guess to df['content_type']\n",
    "for i in range(1, 7):\n",
    "    guess_col = f'source_guessing0{i}'\n",
    "    df[f'accuracy_guess_{i}'] = df[guess_col] == df['content_type']"
   ]
  },
  {
   "cell_type": "markdown",
   "metadata": {},
   "source": [
    "### Calculate Accuracy per Participant"
   ]
  },
  {
   "cell_type": "code",
   "execution_count": 11,
   "metadata": {},
   "outputs": [
    {
     "name": "stdout",
     "output_type": "stream",
     "text": [
      "Average accuracy across all participants: 0.38690476190476186\n"
     ]
    }
   ],
   "source": [
    "# Overall guessing accuracy\n",
    "df['guess_accuracy'] = df[[f'accuracy_guess_{i+1}' for i in range(6)]].mean(axis=1)\n",
    "print(\"Average accuracy across all participants:\", df['guess_accuracy'].mean())"
   ]
  },
  {
   "cell_type": "markdown",
   "metadata": {},
   "source": [
    "## Exploring wheter confidence had any impact on the accuracy score\n",
    "\n",
    "Item CH04 asked for participants confidence in recognizing AI.\n",
    "\n",
    "### Analyze Confidence in Source Guessing\n",
    " "
   ]
  },
  {
   "cell_type": "code",
   "execution_count": 8,
   "metadata": {},
   "outputs": [],
   "source": [
    "# CH04: Confidence in detecting AI (1=not at all, 5=very much)\n",
    "df = df.rename(columns={'CH04': 'confidence_ai_detection'})"
   ]
  },
  {
   "cell_type": "code",
   "execution_count": 13,
   "metadata": {},
   "outputs": [
    {
     "name": "stdout",
     "output_type": "stream",
     "text": [
      "Correlation: r = 0.132, p = 0.334\n"
     ]
    }
   ],
   "source": [
    "# Correlation between confidence and accuracy\n",
    "corr, pval = pearsonr(df['guess_accuracy'], df['confidence_ai_detection'])\n",
    "print(f\"Correlation: r = {corr:.3f}, p = {pval:.3f}\")"
   ]
  },
  {
   "cell_type": "markdown",
   "metadata": {},
   "source": [
    "## Vizualize Confidence"
   ]
  },
  {
   "cell_type": "code",
   "execution_count": 14,
   "metadata": {},
   "outputs": [
    {
     "data": {
      "image/png": "[encoded data removed]",
      "text/plain": [
       "<Figure size 360x360 with 1 Axes>"
      ]
     },
     "metadata": {
      "needs_background": "light"
     },
     "output_type": "display_data"
    }
   ],
   "source": [
    "# Scatterplot with regression line\n",
    "sns.lmplot(x='confidence_ai_detection', y='guess_accuracy', data=df)\n",
    "plt.title('Confidence vs. Source Attribution Accuracy')\n",
    "plt.xlabel('Confidence in detecting AI (CH04)')\n",
    "plt.ylabel('Proportion correct guesses')\n",
    "plt.show()"
   ]
  },
  {
   "cell_type": "markdown",
   "metadata": {},
   "source": [
    "### Conclusion\n",
    "\n",
    " On average, participants correctly guessed the source in only 38.7% of cases. Confidence in detecting AI (CH04) did not correlate with actual accuracy (p > 0.05)."
   ]
  }
 ],
 "metadata": {
  "kernelspec": {
   "display_name": "Python 3",
   "language": "python",
   "name": "python3"
  },
  "language_info": {
   "codemirror_mode": {
    "name": "ipython",
    "version": 3
   },
   "file_extension": ".py",
   "mimetype": "text/x-python",
   "name": "python",
   "nbconvert_exporter": "python",
   "pygments_lexer": "ipython3",
   "version": "3.10.5"
  }
 },
 "nbformat": 4,
 "nbformat_minor": 2
}
