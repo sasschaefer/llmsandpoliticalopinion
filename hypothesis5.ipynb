{
 "cells": [
  {
   "cell_type": "markdown",
   "metadata": {},
   "source": [
    "# Hypothesis 5: Trust by Age Group\n",
    "\n",
    "**Hypothesis:** Younger participants will perceive LLM-generated content as more trustworthy than older participants.\n",
    "\n",
    "This notebook's goal is to analyize the data in regards to the fifth hypothesis by calculating the mean score for trustworthiness of participants' per age group within the AI_group using ANOVA."
   ]
  },
  {
   "cell_type": "markdown",
   "metadata": {},
   "source": [
    "### Load preprocessed data\n",
    "\n",
    "To start, we'll import all relevant libraries needed to test this hypothesis and load the data."
   ]
  },
  {
   "cell_type": "code",
   "execution_count": 1,
   "metadata": {},
   "outputs": [
    {
     "name": "stderr",
     "output_type": "stream",
     "text": [
      "C:\\Users\\saski\\AppData\\Local\\Temp\\ipykernel_16624\\2729394660.py:1: DeprecationWarning: \n",
      "Pyarrow will become a required dependency of pandas in the next major release of pandas (pandas 3.0),\n",
      "(to allow more performant data types, such as the Arrow string type, and better interoperability with other libraries)\n",
      "but was not found to be installed on your system.\n",
      "If this would cause problems for you,\n",
      "please provide us feedback at https://github.com/pandas-dev/pandas/issues/54466\n",
      "        \n",
      "  import pandas as pd\n"
     ]
    }
   ],
   "source": [
    "import pandas as pd\n",
    "import seaborn as sns\n",
    "import matplotlib.pyplot as plt\n",
    "from scipy.stats import ttest_ind, f_oneway\n",
    "\n",
    "from data_preprocessing import load_and_preprocess\n",
    "\n",
    "# Load and preprocess data\n",
    "df = load_and_preprocess('data/cleaned_file.csv')"
   ]
  },
  {
   "cell_type": "markdown",
   "metadata": {},
   "source": [
    "### Calculate Trust Score"
   ]
  },
  {
   "cell_type": "code",
   "execution_count": 3,
   "metadata": {},
   "outputs": [],
   "source": [
    "# Calculate mean trust score\n",
    "trust_cols = [\n",
    "    'trustworthiness01', 'trustworthiness02', 'trustworthiness03',\n",
    "    'trustworthiness04', 'trustworthiness05', 'trustworthiness06']\n",
    "\n",
    "df['trustworthiness'] = df[trust_cols].mean(axis=1)"
   ]
  },
  {
   "cell_type": "markdown",
   "metadata": {},
   "source": [
    "### Filter to AI-Group and compare Age groups"
   ]
  },
  {
   "cell_type": "code",
   "execution_count": 5,
   "metadata": {},
   "outputs": [],
   "source": [
    "# Filter to AI content only\n",
    "df_ai = df[df['content_type'] == 'AI'].copy()"
   ]
  },
  {
   "cell_type": "code",
   "execution_count": 6,
   "metadata": {},
   "outputs": [
    {
     "name": "stdout",
     "output_type": "stream",
     "text": [
      "ANOVA: Trustworthiness by Age Group (AI only): F_onewayResult(statistic=0.4870055221827881, pvalue=0.6204050257109339)\n"
     ]
    }
   ],
   "source": [
    "# Compare age groups\n",
    "groups = df_ai['age'].unique()\n",
    "trust_by_age = [df_ai[df_ai['age'] == g]['trustworthiness'] for g in groups]\n",
    "\n",
    "# ANOVA test\n",
    "anova_result = f_oneway(*trust_by_age)\n",
    "print(\"ANOVA: Trustworthiness by Age Group (AI only):\", anova_result)"
   ]
  },
  {
   "cell_type": "markdown",
   "metadata": {},
   "source": [
    "## Visualize the results:"
   ]
  },
  {
   "cell_type": "code",
   "execution_count": 7,
   "metadata": {},
   "outputs": [
    {
     "data": {
      "image/png": "[encoded data removed]",
      "text/plain": [
       "<Figure size 432x288 with 1 Axes>"
      ]
     },
     "metadata": {
      "needs_background": "light"
     },
     "output_type": "display_data"
    }
   ],
   "source": [
    "# Boxplot of trustworthiness by age group (AI only)\n",
    "sns.boxplot(x='age', y='trustworthiness', data=df_ai)\n",
    "plt.title('Trust in AI-Generated Content by Age Group')\n",
    "plt.show()"
   ]
  },
  {
   "cell_type": "markdown",
   "metadata": {},
   "source": [
    "### Conclusion\n",
    "\n",
    "Trustworthiness ratings did not differ significantly between age groups (p > 0.05). Age was not a significant predictor of trust in LLM-generated content."
   ]
  }
 ],
 "metadata": {
  "kernelspec": {
   "display_name": "Python 3",
   "language": "python",
   "name": "python3"
  },
  "language_info": {
   "codemirror_mode": {
    "name": "ipython",
    "version": 3
   },
   "file_extension": ".py",
   "mimetype": "text/x-python",
   "name": "python",
   "nbconvert_exporter": "python",
   "pygments_lexer": "ipython3",
   "version": "3.10.5"
  }
 },
 "nbformat": 4,
 "nbformat_minor": 2
}
